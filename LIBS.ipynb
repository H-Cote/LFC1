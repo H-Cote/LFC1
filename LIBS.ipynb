{
 "cells": [
  {
   "cell_type": "code",
   "execution_count": 1,
   "metadata": {},
   "outputs": [],
   "source": [
    "import pandas as pd\n",
    "import matplotlib.pyplot as plt\n",
    "import numpy as np\n",
    "import math\n",
    "import matplotlib"
   ]
  },
  {
   "cell_type": "markdown",
   "metadata": {},
   "source": [
    "Linea 7: Mg I\n",
    "\n",
    "Tiempo: $1400ns$"
   ]
  },
  {
   "cell_type": "markdown",
   "metadata": {},
   "source": [
    "### Constantes"
   ]
  },
  {
   "cell_type": "code",
   "execution_count": 2,
   "metadata": {},
   "outputs": [],
   "source": [
    "# emisividad\n",
    "ϵ = 405.03923\n",
    "\n",
    "# Ag (s^-1)\n",
    "ag = 88500000\n",
    "\n",
    "# El -> E_ion (eV)\n",
    "E_l = 2.7115919\n",
    "\n",
    "# Ek -> E_II\n",
    "E_k = 7.0631626\n",
    "\n",
    "# longitud de onda (nm)\n",
    "λ = 284.8342\n",
    "\n",
    "#numero atomico\n",
    "z = 12\n",
    "\n",
    "# temperatura propuesta (K)\n",
    "t_0 = 11.1\n",
    "\n",
    "#------------------------------\n",
    "\n",
    "# masa del electron (eV/c^2)\n",
    "m_e = 510998.9461 \n",
    "\n",
    "# constante de Boltzmann (eV/K)\n",
    "k = 8.617333262e-5 \n",
    "\n",
    "# constante de Plank (eVs)\n",
    "h = 4.135667696e-15 \n",
    "\n",
    "#carga del electron  (C)\n",
    "q_e = 1.602176565E-19\n",
    "\n",
    "# Constante de Coulomb (Nm^2/C)\n",
    "k_e = 8.9875517923e9\n",
    "\n",
    "#pi\n",
    "π = math.pi\n",
    "\n",
    "#------------------------------\n",
    "#ΔE = E_k-E_i quitar\n",
    "\n",
    "#x = E_k + E_l - ΔE\n",
    "\n",
    "# densidad electronica\n",
    "#n_e =1\n",
    "\n",
    "#epsilon cero (mks)\n",
    "#ϵ0 =  8.8541878176E-12\n"
   ]
  },
  {
   "cell_type": "markdown",
   "metadata": {},
   "source": [
    "### Ensanchamiento"
   ]
  },
  {
   "cell_type": "markdown",
   "metadata": {},
   "source": [
    "El valor de Δλ de ajuste es provisto por el programa Origin."
   ]
  },
  {
   "cell_type": "code",
   "execution_count": 3,
   "metadata": {},
   "outputs": [],
   "source": [
    "# (nm)\n",
    "\n",
    "Δλ_ajuste = 0.07021\n"
   ]
  },
  {
   "cell_type": "code",
   "execution_count": 4,
   "metadata": {},
   "outputs": [],
   "source": [
    "#0.05 nm o 0.075 nm\n",
    "\n",
    "Δλ_inst = 0.075\n"
   ]
  },
  {
   "cell_type": "markdown",
   "metadata": {},
   "source": [
    "\\begin{equation}\n",
    "\\Delta \\lambda_{\\text {Stark }}=\\Delta \\lambda_{\\text {Ajuste }}-\\Delta \\lambda_{\\text {inst }}\n",
    "\\end{equation}"
   ]
  },
  {
   "cell_type": "code",
   "execution_count": 5,
   "metadata": {},
   "outputs": [],
   "source": [
    "Δλ_stark = abs(Δλ_ajuste - Δλ_inst)"
   ]
  },
  {
   "cell_type": "code",
   "execution_count": 6,
   "metadata": {},
   "outputs": [
    {
     "data": {
      "text/plain": [
       "0.004790000000000003"
      ]
     },
     "execution_count": 6,
     "metadata": {},
     "output_type": "execute_result"
    }
   ],
   "source": [
    "Δλ_stark #(nm)"
   ]
  },
  {
   "cell_type": "markdown",
   "metadata": {},
   "source": [
    "### Densidad electronica"
   ]
  },
  {
   "cell_type": "markdown",
   "metadata": {},
   "source": [
    "$n_e(w,Δλ_{inst})$"
   ]
  },
  {
   "cell_type": "markdown",
   "metadata": {},
   "source": [
    "\\begin{equation}\n",
    "\\Delta \\lambda_{\\text {Stark }}=2 w_{e} \\frac{n_{e}}{n_{ref}}\n",
    "\\end{equation}"
   ]
  },
  {
   "cell_type": "markdown",
   "metadata": {},
   "source": [
    "Donde $n_{ref}=10^{16}m^{-3}$ y $w_e$ se encuentra en listas."
   ]
  },
  {
   "cell_type": "markdown",
   "metadata": {},
   "source": [
    "\\begin{equation}\n",
    "n_{e} = \\Delta \\lambda_{\\text {Stark }} \\frac{n_{ref}}{2 w_{e}}\n",
    "\\end{equation}\n",
    "\n",
    "\n",
    "\n",
    "Obs: $\\frac{\\Delta \\lambda_{\\text {Stark }} }{2 w_{e}}$ es una cantidad adimensional"
   ]
  },
  {
   "cell_type": "code",
   "execution_count": 7,
   "metadata": {},
   "outputs": [],
   "source": [
    "# Al II: 0.00424 nm (4.24x10^-12m) \n",
    "# Mg II: 0.0096  nm (9.60x10^-12m) \n",
    "# Mg I:  0.0071 nm (7.10x10^-12m)\n",
    "# Fe II:  0.0054 nm\n",
    "\n",
    "w_e =0.0071"
   ]
  },
  {
   "cell_type": "code",
   "execution_count": 8,
   "metadata": {},
   "outputs": [],
   "source": [
    "n_e=Δλ_stark/(2*w_e)*pow(10,16) "
   ]
  },
  {
   "cell_type": "code",
   "execution_count": 9,
   "metadata": {},
   "outputs": [
    {
     "data": {
      "text/plain": [
       "3373239436619720.0"
      ]
     },
     "execution_count": 9,
     "metadata": {},
     "output_type": "execute_result"
    }
   ],
   "source": [
    "n_e #con unidades (m^-3)"
   ]
  },
  {
   "cell_type": "markdown",
   "metadata": {},
   "source": [
    "### Corrección a la energía de ionización"
   ]
  },
  {
   "cell_type": "markdown",
   "metadata": {},
   "source": [
    "\\begin{equation}\n",
    "\\Delta E_{ion}=3 z \\frac{e^{2}}{4 \\pi \\varepsilon_{0}}\\left(\\frac{4 \\pi n_{e}}{3}\\right)^{1 / 3}\n",
    "\\end{equation}\n",
    "\n",
    "usando la constante de Coulomb $K_{\\mathrm{e}}=\\frac{1}{4 \\pi \\varepsilon_{0}}$\n",
    "\n",
    "\\begin{equation}\n",
    "\\Delta E_{ion}=3 z K_e e^{2}\\left(\\frac{4 \\pi n_{e}}{3}\\right)^{1 / 3}\n",
    "\\end{equation}"
   ]
  },
  {
   "cell_type": "code",
   "execution_count": 10,
   "metadata": {},
   "outputs": [],
   "source": [
    "ΔE = 3*z*pow(q_e,2)*(k_e)*pow(4*π*n_e/3,1/3) "
   ]
  },
  {
   "cell_type": "code",
   "execution_count": 11,
   "metadata": {},
   "outputs": [
    {
     "data": {
      "text/plain": [
       "2.0079054092431913e-21"
      ]
     },
     "execution_count": 11,
     "metadata": {},
     "output_type": "execute_result"
    }
   ],
   "source": [
    "ΔE #(mks) En joules (Nm)"
   ]
  },
  {
   "cell_type": "code",
   "execution_count": 12,
   "metadata": {},
   "outputs": [],
   "source": [
    "#conversion de J a eV\n",
    "ΔE_ion = ΔE*6.2415093433e18"
   ]
  },
  {
   "cell_type": "code",
   "execution_count": 13,
   "metadata": {},
   "outputs": [
    {
     "data": {
      "text/plain": [
       "0.012532360372253989"
      ]
     },
     "execution_count": 13,
     "metadata": {},
     "output_type": "execute_result"
    }
   ],
   "source": [
    "ΔE_ion # En eV"
   ]
  },
  {
   "cell_type": "markdown",
   "metadata": {},
   "source": [
    "\\begin{equation}\n",
    "x=E^{I I}+E_{\\text {ion }}-\\Delta E_{\\text {ion }}\n",
    "\\end{equation}"
   ]
  },
  {
   "cell_type": "code",
   "execution_count": 14,
   "metadata": {},
   "outputs": [],
   "source": [
    "x = E_k + E_l - ΔE_ion"
   ]
  },
  {
   "cell_type": "markdown",
   "metadata": {},
   "source": [
    "### Temperatura"
   ]
  },
  {
   "cell_type": "markdown",
   "metadata": {},
   "source": [
    "$T(\\epsilon, \\lambda,Ag,n_e,T_0,x)$ = $T(\\epsilon, \\lambda,Ag,w,Δλ_{inst},T_0,x)$ "
   ]
  },
  {
   "cell_type": "markdown",
   "metadata": {},
   "source": [
    "\\begin{equation}\n",
    "y=\\ln \\left(\\frac{\\varepsilon_{j i}^{I I} \\lambda_{i j}}{A_{j i}^{I I} g_{j}^{I I}}\\right)-\\ln \\left(\\frac{2\\left(2 \\pi m_{e} k T\\right)^{3 / 2}}{n_{e} h^{3}}\\right)\n",
    "\\end{equation}"
   ]
  },
  {
   "cell_type": "code",
   "execution_count": 15,
   "metadata": {},
   "outputs": [],
   "source": [
    "n_e=n_e*1e-27 #con unidades (nm^-3)"
   ]
  },
  {
   "cell_type": "code",
   "execution_count": 16,
   "metadata": {},
   "outputs": [],
   "source": [
    "y=math.log(ϵ*λ/ag)-math.log(2*pow(2*π*m_e*k*t_0,3/2)/(n_e*pow(h,3)))"
   ]
  },
  {
   "cell_type": "markdown",
   "metadata": {},
   "source": [
    "\\begin{equation}\n",
    "y=mx\n",
    "\\end{equation}\n",
    "\n",
    "\\begin{equation}\n",
    "m=\\frac{y}{x}\n",
    "\\end{equation}\n",
    "\n",
    "\n",
    "\n"
   ]
  },
  {
   "cell_type": "code",
   "execution_count": 17,
   "metadata": {},
   "outputs": [
    {
     "data": {
      "text/plain": [
       "-14.868847502492269"
      ]
     },
     "execution_count": 17,
     "metadata": {},
     "output_type": "execute_result"
    }
   ],
   "source": [
    "m=y/x\n",
    "m"
   ]
  },
  {
   "cell_type": "markdown",
   "metadata": {},
   "source": [
    "\n",
    "\\begin{equation}\n",
    "m=\\frac{-1}{kT}\n",
    "\\end{equation}\n",
    "\n",
    "\n",
    "\\begin{equation}\n",
    "T=\\frac{-1}{km}\n",
    "\\end{equation}\n",
    "\n",
    "\\begin{equation}\n",
    "T=\\frac{-x}{ky}\n",
    "\\end{equation}"
   ]
  },
  {
   "cell_type": "code",
   "execution_count": 18,
   "metadata": {},
   "outputs": [],
   "source": [
    "T_1=-1/(k*m)"
   ]
  },
  {
   "cell_type": "code",
   "execution_count": 19,
   "metadata": {},
   "outputs": [
    {
     "data": {
      "text/plain": [
       "780.4584800402636"
      ]
     },
     "execution_count": 19,
     "metadata": {},
     "output_type": "execute_result"
    }
   ],
   "source": [
    "T_1"
   ]
  },
  {
   "cell_type": "markdown",
   "metadata": {},
   "source": [
    "### Convergencia de la temperatura"
   ]
  },
  {
   "cell_type": "code",
   "execution_count": 20,
   "metadata": {},
   "outputs": [
    {
     "name": "stdout",
     "output_type": "stream",
     "text": [
      "La temperatura es 780.4584800402636\n",
      "La temperatura es 747.6017407693918\n",
      "La temperatura es 747.9201766136272\n",
      "La temperatura es 747.9170224566993\n",
      "La temperatura es 747.9170536924017\n",
      "La temperatura es 747.9170533830733\n",
      "La temperatura es 747.9170533861364\n",
      "La temperatura es 747.9170533861062\n",
      "La temperatura es 747.9170533861065\n",
      "La temperatura es 747.9170533861065\n"
     ]
    }
   ],
   "source": [
    "t_0=11.1\n",
    "\n",
    "contador=1 #para salir del ciclo\n",
    "\n",
    "y=math.log(ϵ*λ/ag)-math.log(2*pow(2*π*m_e*k*t_0,3/2)/(n_e*pow(h,3)))\n",
    "\n",
    "\n",
    "while contador <= 10:\n",
    "        \n",
    "    m=y/x\n",
    "    \n",
    "    t_1=-1/(k*m)\n",
    "    \n",
    "    y=math.log(ϵ*λ/ag)-math.log(2*pow(2*π*m_e*k*t_1,3/2)/(n_e*pow(h,3)))  \n",
    "    \n",
    "    contador = contador + 1 #para salir del ciclo\n",
    "    \n",
    "    print (\"La temperatura es \" + str(t_1))"
   ]
  },
  {
   "cell_type": "code",
   "execution_count": 21,
   "metadata": {},
   "outputs": [
    {
     "data": {
      "text/plain": [
       "11"
      ]
     },
     "execution_count": 21,
     "metadata": {},
     "output_type": "execute_result"
    }
   ],
   "source": [
    "contador"
   ]
  },
  {
   "cell_type": "markdown",
   "metadata": {},
   "source": [
    "Tanto $T$ como $n_e$ dependen de $w$, el cual varia con el tiempo de medición, haciendo posible realizar las gráficas de $T$ y $n_e$ en relación al tiempo. "
   ]
  },
  {
   "cell_type": "markdown",
   "metadata": {},
   "source": [
    "---"
   ]
  },
  {
   "cell_type": "markdown",
   "metadata": {},
   "source": [
    "### Criterio McWhirter"
   ]
  },
  {
   "cell_type": "markdown",
   "metadata": {},
   "source": [
    "Condición para ETL:\n",
    "\n",
    "\\begin{equation}\n",
    "n_{e} \\geq 1.4 \\times 10^{14} \\sqrt{T}\\left(E_{m}-E_{n}\\right)^{3} \\mathrm{~cm}^{-3}\n",
    "\\end{equation}"
   ]
  },
  {
   "cell_type": "code",
   "execution_count": 22,
   "metadata": {},
   "outputs": [
    {
     "name": "stdout",
     "output_type": "stream",
     "text": [
      "Satisface la condición para ETL\n"
     ]
    }
   ],
   "source": [
    "condicion = 1.4e14*math.sqrt(t_1)*pow(E_l-E_k,3)\n",
    "\n",
    "\n",
    "if n_e >= condicion:\n",
    "  print(\"Satisface la condición para ETL\")\n",
    "\n",
    "else:\n",
    "  print(\"No satisface la condición para ETL\")\n",
    "\n"
   ]
  },
  {
   "cell_type": "markdown",
   "metadata": {},
   "source": [
    "n>m , pues n=m+1 (ver ref[3])"
   ]
  },
  {
   "cell_type": "code",
   "execution_count": null,
   "metadata": {},
   "outputs": [],
   "source": []
  }
 ],
 "metadata": {
  "kernelspec": {
   "display_name": "Python 3",
   "language": "python",
   "name": "python3"
  },
  "language_info": {
   "codemirror_mode": {
    "name": "ipython",
    "version": 3
   },
   "file_extension": ".py",
   "mimetype": "text/x-python",
   "name": "python",
   "nbconvert_exporter": "python",
   "pygments_lexer": "ipython3",
   "version": "3.8.5"
  }
 },
 "nbformat": 4,
 "nbformat_minor": 4
}
